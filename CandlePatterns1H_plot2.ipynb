{
 "cells": [
  {
   "cell_type": "code",
   "execution_count": 1,
   "metadata": {},
   "outputs": [],
   "source": [
    "import pandas as pd\n",
    "import numpy as np\n",
    "\n",
    "def date_parser(timestamp, format = '%Y-%m-%d %H:%M:%S'):\n",
    "    import math\n",
    "    from datetime import datetime      \n",
    "    if isinstance(timestamp, float) and math.isnan(timestamp):\n",
    "        return pd.NaT\n",
    "    if isinstance(timestamp, str):\n",
    "        return datetime.strptime(timestamp, format)\n",
    "    return timestamp\n",
    "\n",
    "#data from https://enigma.co/catalyst/status/\n",
    "prices = pd.read_csv('prices_1T.csv', index_col=0, date_parser = date_parser)"
   ]
  },
  {
   "cell_type": "markdown",
   "metadata": {},
   "source": [
    "# Resampling"
   ]
  },
  {
   "cell_type": "code",
   "execution_count": 2,
   "metadata": {},
   "outputs": [],
   "source": [
    "prices = prices.resample('1H').agg(\n",
    "    {'open': 'first', \n",
    "     'high': 'max', \n",
    "     'low': 'min', \n",
    "     'close': 'last'})"
   ]
  },
  {
   "cell_type": "markdown",
   "metadata": {},
   "source": [
    "# All candle patterns"
   ]
  },
  {
   "cell_type": "code",
   "execution_count": 3,
   "metadata": {},
   "outputs": [
    {
     "data": {
      "application/vnd.jupyter.widget-view+json": {
       "model_id": "0c1e183ab8ba49049f1f0d4b5a8bf3e6",
       "version_major": 2,
       "version_minor": 0
      },
      "text/plain": [
       "HBox(children=(IntProgress(value=0, max=61), HTML(value='')))"
      ]
     },
     "metadata": {},
     "output_type": "display_data"
    },
    {
     "name": "stdout",
     "output_type": "stream",
     "text": [
      "\n"
     ]
    }
   ],
   "source": [
    "import talib as ta\n",
    "from tqdm import tqdm_notebook as tqdm\n",
    "\n",
    "CDLs = [name for name in ta.__TA_FUNCTION_NAMES__ if 'CDL' in name]\n",
    "\n",
    "for CDL in tqdm(CDLs):\n",
    "    prices[CDL] = getattr(ta, CDL)(*prices[['open','high','low','close']].values.T)/100"
   ]
  },
  {
   "cell_type": "markdown",
   "metadata": {},
   "source": [
    "# Next candle balance plot"
   ]
  },
  {
   "cell_type": "code",
   "execution_count": 4,
   "metadata": {},
   "outputs": [],
   "source": [
    "def get_accuracy(prices, CDLs):\n",
    "    prices['price_up'] = (prices['close']>=prices['open']).astype(int).replace(0,-1)\n",
    "    #the shift defines how far in the future we look\n",
    "    prices['price_up_shifted'] = prices['price_up'].shift(-1)\n",
    "    \n",
    "    from sklearn.metrics import accuracy_score\n",
    "    res = []\n",
    "    for CDL in CDLs:\n",
    "        mask = prices[CDL] != 0\n",
    "        prices_with_prediction = prices.loc[mask]\n",
    "        sub_df = prices_with_prediction[[CDL,'price_up_shifted']].dropna()\n",
    "        accuracy = accuracy_score(sub_df.price_up_shifted, sub_df[CDL])\n",
    "        re = {'name':CDL, 'accuracy':accuracy, 'samples': len(prices_with_prediction)}\n",
    "        res.append(re)\n",
    "    res= pd.DataFrame(res).sort_values(by=['accuracy'], ascending = True).dropna() \n",
    "    return res"
   ]
  },
  {
   "cell_type": "markdown",
   "metadata": {},
   "source": [
    "### Accuracy vs sample size plot"
   ]
  },
  {
   "cell_type": "code",
   "execution_count": 5,
   "metadata": {},
   "outputs": [],
   "source": [
    "def accuracy_plot(df, N, exclusion_list = ['CDLDOJI']):\n",
    "    df = df[-N:]\n",
    "    df = df[df.name.apply(lambda x: x not in exclusion_list) ]\n",
    "    \n",
    "    data = []\n",
    "    layout = dict()\n",
    "    fig = dict(data=data, layout=layout)\n",
    "\n",
    "    fig['layout'] = dict(\n",
    "        autosize=True,\n",
    "        width=1000,\n",
    "        height=600,\n",
    "        title = 'Accuracy of the {} best performing candle patterns'.format(N),\n",
    "        titlefont = dict(\n",
    "            family='Futura',\n",
    "            size=20,\n",
    "            color='#7f7f7f'),\n",
    "        showlegend=False,\n",
    "        margin=dict(pad = 5, b = 100),\n",
    "        font=dict(family='Futura', size=12, color='#7f7f7f')\n",
    "    )\n",
    "\n",
    "    fig['layout']['xaxis'] = dict(\n",
    "        title = 'Accuracy',\n",
    "        showgrid=True,\n",
    "        showline=False,\n",
    "        showticklabels=True,\n",
    "        zeroline=False,\n",
    "        automargin=True\n",
    "        ) \n",
    "\n",
    "    fig['layout']['yaxis'] = dict(\n",
    "        title = 'Predictions no.',\n",
    "        type='log',\n",
    "        #dtick = 1,\n",
    "        showgrid=True,\n",
    "        showline=False,\n",
    "        showticklabels=True,\n",
    "        zeroline=False,\n",
    "        automargin=True,\n",
    "        tickfont=dict(\n",
    "            family=\"Futura\",\n",
    "            size=12,\n",
    "            color='#7f7f7f')\n",
    "        )    \n",
    "\n",
    "\n",
    "    green = 'rgba(50, 171, 96, 0.6)'\n",
    "    red = '#cf4817'\n",
    "    neutral = 'rgba(127, 127, 127, 0.6)'\n",
    "    blue = '#17becf' #'rgba(66,46,139, 0.6)'\n",
    "\n",
    "    green_line = 'rgba(50, 171, 96, 1.0)'\n",
    "    red_line = '#cf4817'\n",
    "    neutral_line = 'rgba(127, 127, 127, 1.0)'\n",
    "    blue_line = '#17becf' #'rgba(66,46,139, 1.0)'\n",
    "\n",
    "    fig['data'].append(dict(type = 'scatter',\n",
    "                            orientation = 'v',\n",
    "                            x = df.accuracy,    \n",
    "                            y = df.samples,                                \n",
    "                            mode = 'markers',\n",
    "                            marker = dict(\n",
    "                                size = 5,\n",
    "                                color = [blue if val>=0.5 else red for val in df.accuracy],\n",
    "                                line = dict(\n",
    "                                    color = [blue_line if val>=0.5 else red_line for val in df.accuracy],\n",
    "                                    width = 2,\n",
    "                                )                    \n",
    "                           ),\n",
    "                           ))\n",
    "    from math import log\n",
    "\n",
    "    df_ann = df[-9:]\n",
    "    fig['layout']['annotations'] = [\n",
    "            dict(\n",
    "                x=xpos,\n",
    "                y=log(ypos, 10),\n",
    "                xref='x',\n",
    "                yref='y',            \n",
    "                text = str(txt),\n",
    "                showarrow=True,\n",
    "                arrowhead=3,\n",
    "                ax=-70,\n",
    "                ay=0,\n",
    "                font=dict(family='Futura', size=10, color='#7f7f7f')\n",
    "        ) for xpos, ypos, txt in list(zip(df_ann.accuracy, df_ann.samples, df_ann.name.map(lambda x: x[3:])))\n",
    "        ]    \n",
    "    return fig"
   ]
  },
  {
   "cell_type": "code",
   "execution_count": 6,
   "metadata": {},
   "outputs": [
    {
     "data": {
      "text/html": [
       "<script type=\"text/javascript\">window.PlotlyConfig = {MathJaxConfig: 'local'};</script><script type=\"text/javascript\">if (window.MathJax) {MathJax.Hub.Config({SVG: {font: \"STIX-Web\"}});}</script><script>requirejs.config({paths: { 'plotly': ['https://cdn.plot.ly/plotly-latest.min']},});if(!window._Plotly) {require(['plotly'],function(plotly) {window._Plotly=plotly;});}</script>"
      ],
      "text/vnd.plotly.v1+html": [
       "<script type=\"text/javascript\">window.PlotlyConfig = {MathJaxConfig: 'local'};</script><script type=\"text/javascript\">if (window.MathJax) {MathJax.Hub.Config({SVG: {font: \"STIX-Web\"}});}</script><script>requirejs.config({paths: { 'plotly': ['https://cdn.plot.ly/plotly-latest.min']},});if(!window._Plotly) {require(['plotly'],function(plotly) {window._Plotly=plotly;});}</script>"
      ]
     },
     "metadata": {},
     "output_type": "display_data"
    },
    {
     "name": "stderr",
     "output_type": "stream",
     "text": [
      "/Users/kirkansin/cryzen/catalyst/env/lib/python3.6/site-packages/numpy/lib/function_base.py:1128: RuntimeWarning:\n",
      "\n",
      "Mean of empty slice.\n",
      "\n",
      "/Users/kirkansin/cryzen/catalyst/env/lib/python3.6/site-packages/numpy/core/_methods.py:80: RuntimeWarning:\n",
      "\n",
      "invalid value encountered in double_scalars\n",
      "\n"
     ]
    },
    {
     "data": {
      "application/vnd.plotly.v1+json": {
       "data": [
        {
         "marker": {
          "color": [
           "#17becf",
           "#17becf",
           "#17becf",
           "#17becf",
           "#17becf",
           "#17becf",
           "#17becf",
           "#17becf",
           "#17becf",
           "#17becf",
           "#17becf",
           "#17becf",
           "#17becf",
           "#17becf",
           "#17becf",
           "#17becf",
           "#17becf",
           "#17becf",
           "#17becf"
          ],
          "line": {
           "color": [
            "#17becf",
            "#17becf",
            "#17becf",
            "#17becf",
            "#17becf",
            "#17becf",
            "#17becf",
            "#17becf",
            "#17becf",
            "#17becf",
            "#17becf",
            "#17becf",
            "#17becf",
            "#17becf",
            "#17becf",
            "#17becf",
            "#17becf",
            "#17becf",
            "#17becf"
           ],
           "width": 2
          },
          "size": 5
         },
         "mode": "markers",
         "orientation": "v",
         "type": "scatter",
         "uid": "ee1040dd-cb04-4f11-8b51-9be3c3755a8c",
         "x": [
          0.5133333333333333,
          0.5189873417721519,
          0.5207547169811321,
          0.5217391304347826,
          0.5224625623960066,
          0.5238095238095238,
          0.525096525096525,
          0.5432098765432098,
          0.544,
          0.5542168674698795,
          0.6,
          0.6052631578947368,
          0.6363636363636364,
          0.6842105263157895,
          0.7142857142857143,
          0.8333333333333334,
          0.8947368421052632,
          1,
          1
         ],
         "y": [
          150,
          158,
          265,
          300,
          601,
          42,
          259,
          324,
          250,
          83,
          125,
          38,
          11,
          19,
          7,
          6,
          19,
          2,
          1
         ]
        }
       ],
       "layout": {
        "annotations": [
         {
          "arrowhead": 3,
          "ax": -70,
          "ay": 0,
          "font": {
           "color": "#7f7f7f",
           "family": "Futura",
           "size": 10
          },
          "showarrow": true,
          "text": "ADVANCEBLOCK",
          "x": 0.6,
          "xref": "x",
          "y": 2.0969100130080562,
          "yref": "y"
         },
         {
          "arrowhead": 3,
          "ax": -70,
          "ay": 0,
          "font": {
           "color": "#7f7f7f",
           "family": "Futura",
           "size": 10
          },
          "showarrow": true,
          "text": "MORNINGSTAR",
          "x": 0.6052631578947368,
          "xref": "x",
          "y": 1.57978359661681,
          "yref": "y"
         },
         {
          "arrowhead": 3,
          "ax": -70,
          "ay": 0,
          "font": {
           "color": "#7f7f7f",
           "family": "Futura",
           "size": 10
          },
          "showarrow": true,
          "text": "TASUKIGAP",
          "x": 0.6363636363636364,
          "xref": "x",
          "y": 1.041392685158225,
          "yref": "y"
         },
         {
          "arrowhead": 3,
          "ax": -70,
          "ay": 0,
          "font": {
           "color": "#7f7f7f",
           "family": "Futura",
           "size": 10
          },
          "showarrow": true,
          "text": "STALLEDPATTERN",
          "x": 0.6842105263157895,
          "xref": "x",
          "y": 1.2787536009528289,
          "yref": "y"
         },
         {
          "arrowhead": 3,
          "ax": -70,
          "ay": 0,
          "font": {
           "color": "#7f7f7f",
           "family": "Futura",
           "size": 10
          },
          "showarrow": true,
          "text": "UNIQUE3RIVER",
          "x": 0.7142857142857143,
          "xref": "x",
          "y": 0.8450980400142567,
          "yref": "y"
         },
         {
          "arrowhead": 3,
          "ax": -70,
          "ay": 0,
          "font": {
           "color": "#7f7f7f",
           "family": "Futura",
           "size": 10
          },
          "showarrow": true,
          "text": "TRISTAR",
          "x": 0.8333333333333334,
          "xref": "x",
          "y": 0.7781512503836435,
          "yref": "y"
         },
         {
          "arrowhead": 3,
          "ax": -70,
          "ay": 0,
          "font": {
           "color": "#7f7f7f",
           "family": "Futura",
           "size": 10
          },
          "showarrow": true,
          "text": "HOMINGPIGEON",
          "x": 0.8947368421052632,
          "xref": "x",
          "y": 1.2787536009528289,
          "yref": "y"
         },
         {
          "arrowhead": 3,
          "ax": -70,
          "ay": 0,
          "font": {
           "color": "#7f7f7f",
           "family": "Futura",
           "size": 10
          },
          "showarrow": true,
          "text": "LADDERBOTTOM",
          "x": 1,
          "xref": "x",
          "y": 0.30102999566398114,
          "yref": "y"
         },
         {
          "arrowhead": 3,
          "ax": -70,
          "ay": 0,
          "font": {
           "color": "#7f7f7f",
           "family": "Futura",
           "size": 10
          },
          "showarrow": true,
          "text": "PIERCING",
          "x": 1,
          "xref": "x",
          "y": 0,
          "yref": "y"
         }
        ],
        "autosize": true,
        "font": {
         "color": "#7f7f7f",
         "family": "Futura",
         "size": 12
        },
        "height": 600,
        "margin": {
         "b": 100,
         "pad": 5
        },
        "showlegend": false,
        "title": "Accuracy of the 20 best performing candle patterns",
        "titlefont": {
         "color": "#7f7f7f",
         "family": "Futura",
         "size": 20
        },
        "width": 1000,
        "xaxis": {
         "automargin": true,
         "showgrid": true,
         "showline": false,
         "showticklabels": true,
         "title": "Accuracy",
         "zeroline": false
        },
        "yaxis": {
         "automargin": true,
         "showgrid": true,
         "showline": false,
         "showticklabels": true,
         "tickfont": {
          "color": "#7f7f7f",
          "family": "Futura",
          "size": 12
         },
         "title": "Predictions no.",
         "type": "log",
         "zeroline": false
        }
       }
      },
      "text/html": [
       "<div id=\"1abec392-38f4-400a-bd13-8ba0cc93acf9\" style=\"height: 600px; width: 1000px;\" class=\"plotly-graph-div\"></div><script type=\"text/javascript\">require([\"plotly\"], function(Plotly) { window.PLOTLYENV=window.PLOTLYENV || {};window.PLOTLYENV.BASE_URL=\"https://plot.ly\";Plotly.newPlot(\"1abec392-38f4-400a-bd13-8ba0cc93acf9\", [{\"marker\": {\"color\": [\"#17becf\", \"#17becf\", \"#17becf\", \"#17becf\", \"#17becf\", \"#17becf\", \"#17becf\", \"#17becf\", \"#17becf\", \"#17becf\", \"#17becf\", \"#17becf\", \"#17becf\", \"#17becf\", \"#17becf\", \"#17becf\", \"#17becf\", \"#17becf\", \"#17becf\"], \"line\": {\"color\": [\"#17becf\", \"#17becf\", \"#17becf\", \"#17becf\", \"#17becf\", \"#17becf\", \"#17becf\", \"#17becf\", \"#17becf\", \"#17becf\", \"#17becf\", \"#17becf\", \"#17becf\", \"#17becf\", \"#17becf\", \"#17becf\", \"#17becf\", \"#17becf\", \"#17becf\"], \"width\": 2}, \"size\": 5}, \"mode\": \"markers\", \"orientation\": \"v\", \"x\": [0.5133333333333333, 0.5189873417721519, 0.5207547169811321, 0.5217391304347826, 0.5224625623960066, 0.5238095238095238, 0.525096525096525, 0.5432098765432098, 0.544, 0.5542168674698795, 0.6, 0.6052631578947368, 0.6363636363636364, 0.6842105263157895, 0.7142857142857143, 0.8333333333333334, 0.8947368421052632, 1.0, 1.0], \"y\": [150, 158, 265, 300, 601, 42, 259, 324, 250, 83, 125, 38, 11, 19, 7, 6, 19, 2, 1], \"type\": \"scatter\", \"uid\": \"d4d5ae22-a02d-4dcf-844a-3687eef6af06\"}], {\"annotations\": [{\"arrowhead\": 3, \"ax\": -70, \"ay\": 0, \"font\": {\"color\": \"#7f7f7f\", \"family\": \"Futura\", \"size\": 10}, \"showarrow\": true, \"text\": \"ADVANCEBLOCK\", \"x\": 0.6, \"xref\": \"x\", \"y\": 2.0969100130080562, \"yref\": \"y\"}, {\"arrowhead\": 3, \"ax\": -70, \"ay\": 0, \"font\": {\"color\": \"#7f7f7f\", \"family\": \"Futura\", \"size\": 10}, \"showarrow\": true, \"text\": \"MORNINGSTAR\", \"x\": 0.6052631578947368, \"xref\": \"x\", \"y\": 1.57978359661681, \"yref\": \"y\"}, {\"arrowhead\": 3, \"ax\": -70, \"ay\": 0, \"font\": {\"color\": \"#7f7f7f\", \"family\": \"Futura\", \"size\": 10}, \"showarrow\": true, \"text\": \"TASUKIGAP\", \"x\": 0.6363636363636364, \"xref\": \"x\", \"y\": 1.041392685158225, \"yref\": \"y\"}, {\"arrowhead\": 3, \"ax\": -70, \"ay\": 0, \"font\": {\"color\": \"#7f7f7f\", \"family\": \"Futura\", \"size\": 10}, \"showarrow\": true, \"text\": \"STALLEDPATTERN\", \"x\": 0.6842105263157895, \"xref\": \"x\", \"y\": 1.2787536009528289, \"yref\": \"y\"}, {\"arrowhead\": 3, \"ax\": -70, \"ay\": 0, \"font\": {\"color\": \"#7f7f7f\", \"family\": \"Futura\", \"size\": 10}, \"showarrow\": true, \"text\": \"UNIQUE3RIVER\", \"x\": 0.7142857142857143, \"xref\": \"x\", \"y\": 0.8450980400142567, \"yref\": \"y\"}, {\"arrowhead\": 3, \"ax\": -70, \"ay\": 0, \"font\": {\"color\": \"#7f7f7f\", \"family\": \"Futura\", \"size\": 10}, \"showarrow\": true, \"text\": \"TRISTAR\", \"x\": 0.8333333333333334, \"xref\": \"x\", \"y\": 0.7781512503836435, \"yref\": \"y\"}, {\"arrowhead\": 3, \"ax\": -70, \"ay\": 0, \"font\": {\"color\": \"#7f7f7f\", \"family\": \"Futura\", \"size\": 10}, \"showarrow\": true, \"text\": \"HOMINGPIGEON\", \"x\": 0.8947368421052632, \"xref\": \"x\", \"y\": 1.2787536009528289, \"yref\": \"y\"}, {\"arrowhead\": 3, \"ax\": -70, \"ay\": 0, \"font\": {\"color\": \"#7f7f7f\", \"family\": \"Futura\", \"size\": 10}, \"showarrow\": true, \"text\": \"LADDERBOTTOM\", \"x\": 1.0, \"xref\": \"x\", \"y\": 0.30102999566398114, \"yref\": \"y\"}, {\"arrowhead\": 3, \"ax\": -70, \"ay\": 0, \"font\": {\"color\": \"#7f7f7f\", \"family\": \"Futura\", \"size\": 10}, \"showarrow\": true, \"text\": \"PIERCING\", \"x\": 1.0, \"xref\": \"x\", \"y\": 0.0, \"yref\": \"y\"}], \"autosize\": true, \"font\": {\"color\": \"#7f7f7f\", \"family\": \"Futura\", \"size\": 12}, \"height\": 600, \"margin\": {\"b\": 100, \"pad\": 5}, \"showlegend\": false, \"title\": \"Accuracy of the 20 best performing candle patterns\", \"titlefont\": {\"color\": \"#7f7f7f\", \"family\": \"Futura\", \"size\": 20}, \"width\": 1000, \"xaxis\": {\"automargin\": true, \"showgrid\": true, \"showline\": false, \"showticklabels\": true, \"title\": \"Accuracy\", \"zeroline\": false}, \"yaxis\": {\"automargin\": true, \"showgrid\": true, \"showline\": false, \"showticklabels\": true, \"tickfont\": {\"color\": \"#7f7f7f\", \"family\": \"Futura\", \"size\": 12}, \"title\": \"Predictions no.\", \"type\": \"log\", \"zeroline\": false}}, {\"showLink\": true, \"linkText\": \"Export to plot.ly\"})});</script>"
      ],
      "text/vnd.plotly.v1+html": [
       "<div id=\"1abec392-38f4-400a-bd13-8ba0cc93acf9\" style=\"height: 600px; width: 1000px;\" class=\"plotly-graph-div\"></div><script type=\"text/javascript\">require([\"plotly\"], function(Plotly) { window.PLOTLYENV=window.PLOTLYENV || {};window.PLOTLYENV.BASE_URL=\"https://plot.ly\";Plotly.newPlot(\"1abec392-38f4-400a-bd13-8ba0cc93acf9\", [{\"marker\": {\"color\": [\"#17becf\", \"#17becf\", \"#17becf\", \"#17becf\", \"#17becf\", \"#17becf\", \"#17becf\", \"#17becf\", \"#17becf\", \"#17becf\", \"#17becf\", \"#17becf\", \"#17becf\", \"#17becf\", \"#17becf\", \"#17becf\", \"#17becf\", \"#17becf\", \"#17becf\"], \"line\": {\"color\": [\"#17becf\", \"#17becf\", \"#17becf\", \"#17becf\", \"#17becf\", \"#17becf\", \"#17becf\", \"#17becf\", \"#17becf\", \"#17becf\", \"#17becf\", \"#17becf\", \"#17becf\", \"#17becf\", \"#17becf\", \"#17becf\", \"#17becf\", \"#17becf\", \"#17becf\"], \"width\": 2}, \"size\": 5}, \"mode\": \"markers\", \"orientation\": \"v\", \"x\": [0.5133333333333333, 0.5189873417721519, 0.5207547169811321, 0.5217391304347826, 0.5224625623960066, 0.5238095238095238, 0.525096525096525, 0.5432098765432098, 0.544, 0.5542168674698795, 0.6, 0.6052631578947368, 0.6363636363636364, 0.6842105263157895, 0.7142857142857143, 0.8333333333333334, 0.8947368421052632, 1.0, 1.0], \"y\": [150, 158, 265, 300, 601, 42, 259, 324, 250, 83, 125, 38, 11, 19, 7, 6, 19, 2, 1], \"type\": \"scatter\", \"uid\": \"d4d5ae22-a02d-4dcf-844a-3687eef6af06\"}], {\"annotations\": [{\"arrowhead\": 3, \"ax\": -70, \"ay\": 0, \"font\": {\"color\": \"#7f7f7f\", \"family\": \"Futura\", \"size\": 10}, \"showarrow\": true, \"text\": \"ADVANCEBLOCK\", \"x\": 0.6, \"xref\": \"x\", \"y\": 2.0969100130080562, \"yref\": \"y\"}, {\"arrowhead\": 3, \"ax\": -70, \"ay\": 0, \"font\": {\"color\": \"#7f7f7f\", \"family\": \"Futura\", \"size\": 10}, \"showarrow\": true, \"text\": \"MORNINGSTAR\", \"x\": 0.6052631578947368, \"xref\": \"x\", \"y\": 1.57978359661681, \"yref\": \"y\"}, {\"arrowhead\": 3, \"ax\": -70, \"ay\": 0, \"font\": {\"color\": \"#7f7f7f\", \"family\": \"Futura\", \"size\": 10}, \"showarrow\": true, \"text\": \"TASUKIGAP\", \"x\": 0.6363636363636364, \"xref\": \"x\", \"y\": 1.041392685158225, \"yref\": \"y\"}, {\"arrowhead\": 3, \"ax\": -70, \"ay\": 0, \"font\": {\"color\": \"#7f7f7f\", \"family\": \"Futura\", \"size\": 10}, \"showarrow\": true, \"text\": \"STALLEDPATTERN\", \"x\": 0.6842105263157895, \"xref\": \"x\", \"y\": 1.2787536009528289, \"yref\": \"y\"}, {\"arrowhead\": 3, \"ax\": -70, \"ay\": 0, \"font\": {\"color\": \"#7f7f7f\", \"family\": \"Futura\", \"size\": 10}, \"showarrow\": true, \"text\": \"UNIQUE3RIVER\", \"x\": 0.7142857142857143, \"xref\": \"x\", \"y\": 0.8450980400142567, \"yref\": \"y\"}, {\"arrowhead\": 3, \"ax\": -70, \"ay\": 0, \"font\": {\"color\": \"#7f7f7f\", \"family\": \"Futura\", \"size\": 10}, \"showarrow\": true, \"text\": \"TRISTAR\", \"x\": 0.8333333333333334, \"xref\": \"x\", \"y\": 0.7781512503836435, \"yref\": \"y\"}, {\"arrowhead\": 3, \"ax\": -70, \"ay\": 0, \"font\": {\"color\": \"#7f7f7f\", \"family\": \"Futura\", \"size\": 10}, \"showarrow\": true, \"text\": \"HOMINGPIGEON\", \"x\": 0.8947368421052632, \"xref\": \"x\", \"y\": 1.2787536009528289, \"yref\": \"y\"}, {\"arrowhead\": 3, \"ax\": -70, \"ay\": 0, \"font\": {\"color\": \"#7f7f7f\", \"family\": \"Futura\", \"size\": 10}, \"showarrow\": true, \"text\": \"LADDERBOTTOM\", \"x\": 1.0, \"xref\": \"x\", \"y\": 0.30102999566398114, \"yref\": \"y\"}, {\"arrowhead\": 3, \"ax\": -70, \"ay\": 0, \"font\": {\"color\": \"#7f7f7f\", \"family\": \"Futura\", \"size\": 10}, \"showarrow\": true, \"text\": \"PIERCING\", \"x\": 1.0, \"xref\": \"x\", \"y\": 0.0, \"yref\": \"y\"}], \"autosize\": true, \"font\": {\"color\": \"#7f7f7f\", \"family\": \"Futura\", \"size\": 12}, \"height\": 600, \"margin\": {\"b\": 100, \"pad\": 5}, \"showlegend\": false, \"title\": \"Accuracy of the 20 best performing candle patterns\", \"titlefont\": {\"color\": \"#7f7f7f\", \"family\": \"Futura\", \"size\": 20}, \"width\": 1000, \"xaxis\": {\"automargin\": true, \"showgrid\": true, \"showline\": false, \"showticklabels\": true, \"title\": \"Accuracy\", \"zeroline\": false}, \"yaxis\": {\"automargin\": true, \"showgrid\": true, \"showline\": false, \"showticklabels\": true, \"tickfont\": {\"color\": \"#7f7f7f\", \"family\": \"Futura\", \"size\": 12}, \"title\": \"Predictions no.\", \"type\": \"log\", \"zeroline\": false}}, {\"showLink\": true, \"linkText\": \"Export to plot.ly\"})});</script>"
      ]
     },
     "metadata": {},
     "output_type": "display_data"
    }
   ],
   "source": [
    "from plotly.offline import init_notebook_mode, iplot\n",
    "init_notebook_mode(connected=True)\n",
    "\n",
    "res =  get_accuracy(prices, CDLs)\n",
    "fig = accuracy_plot(res, 20, exclusion_list = ['CDLDOJI'])\n",
    "iplot(fig)"
   ]
  },
  {
   "cell_type": "code",
   "execution_count": null,
   "metadata": {},
   "outputs": [],
   "source": []
  }
 ],
 "metadata": {
  "kernelspec": {
   "display_name": "catalyst",
   "language": "python",
   "name": "catalyst"
  },
  "language_info": {
   "codemirror_mode": {
    "name": "ipython",
    "version": 3
   },
   "file_extension": ".py",
   "mimetype": "text/x-python",
   "name": "python",
   "nbconvert_exporter": "python",
   "pygments_lexer": "ipython3",
   "version": "3.6.3"
  }
 },
 "nbformat": 4,
 "nbformat_minor": 2
}

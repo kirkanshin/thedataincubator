{
 "cells": [
  {
   "cell_type": "markdown",
   "metadata": {},
   "source": [
    "# Dump data"
   ]
  },
  {
   "cell_type": "code",
   "execution_count": 13,
   "metadata": {},
   "outputs": [],
   "source": [
    "from catalyst.api import record, symbol, order_target_percent, get_datetime\n",
    "from catalyst import run_algorithm\n",
    "import pandas as pd\n",
    "\n",
    "SYMBOLNAME = 'eth_usdt'\n",
    "\n",
    "def initialize(context):\n",
    "    context.asset = symbol(SYMBOLNAME)\n",
    "    context.dumped = False\n",
    "    \n",
    "def handle_data(context, data):   \n",
    "    def dump():\n",
    "        prices = data.history(\n",
    "            context.asset,\n",
    "            bar_count=1000000,\n",
    "            fields=['open', 'high', 'low', 'close', 'volume'],\n",
    "            frequency='1T')\n",
    "        prices.to_csv('prices.csv') \n",
    "        \n",
    "    if not context.dumped:\n",
    "        dump()\n",
    "        context.dumped = True\n",
    "    pass\n",
    "\n",
    "def analyze(context, results):\n",
    "    pass"
   ]
  },
  {
   "cell_type": "code",
   "execution_count": 14,
   "metadata": {},
   "outputs": [
    {
     "name": "stderr",
     "output_type": "stream",
     "text": [
      "[2019-02-02 09:41:36.841381] INFO: run_algo: Catalyst version 0.5.21\n",
      "[2019-02-02 09:41:36.842429] WARNING: run_algo: Catalyst is currently in ALPHA. It is going through rapid development and it is subject to errors. Please use carefully. We encourage you to report any issue on GitHub: https://github.com/enigmampc/catalyst/issues\n",
      "[2019-02-02 09:41:39.844173] INFO: run_algo: running algo in backtest mode\n",
      "[2019-02-02 09:41:39.851041] INFO: exchange_algorithm: initialized trading algorithm in backtest mode\n",
      "[2019-02-02 09:41:47.591069] INFO: Performance: Simulated 1 trading days out of 1.\n",
      "[2019-02-02 09:41:47.591769] INFO: Performance: first open: 2019-02-01 00:00:00+00:00\n",
      "[2019-02-02 09:41:47.592335] INFO: Performance: last close: 2019-02-01 23:59:00+00:00\n"
     ]
    }
   ],
   "source": [
    "START = '2019-02-01'\n",
    "\n",
    "_=run_algorithm(\n",
    "\n",
    "        start=pd.to_datetime(START, utc=True),\n",
    "        end=pd.to_datetime(START, utc=True),        \n",
    "        data_frequency = 'daily',\n",
    "\n",
    "        capital_base=100,\n",
    "        quote_currency='usdt',\n",
    "        exchange_name='binance',\n",
    "\n",
    "        initialize=initialize,\n",
    "        handle_data=handle_data,\n",
    "        analyze=analyze,\n",
    "    )     "
   ]
  }
 ],
 "metadata": {
  "kernelspec": {
   "display_name": "catalyst",
   "language": "python",
   "name": "catalyst"
  },
  "language_info": {
   "codemirror_mode": {
    "name": "ipython",
    "version": 3
   },
   "file_extension": ".py",
   "mimetype": "text/x-python",
   "name": "python",
   "nbconvert_exporter": "python",
   "pygments_lexer": "ipython3",
   "version": "3.6.3"
  }
 },
 "nbformat": 4,
 "nbformat_minor": 2
}

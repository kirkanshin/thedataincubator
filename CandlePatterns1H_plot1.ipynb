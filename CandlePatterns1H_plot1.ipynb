{
 "cells": [
  {
   "cell_type": "code",
   "execution_count": 1,
   "metadata": {},
   "outputs": [],
   "source": [
    "import pandas as pd\n",
    "import numpy as np\n",
    "\n",
    "def date_parser(timestamp, format = '%Y-%m-%d %H:%M:%S'):\n",
    "    import math\n",
    "    from datetime import datetime      \n",
    "    if isinstance(timestamp, float) and math.isnan(timestamp):\n",
    "        return pd.NaT\n",
    "    if isinstance(timestamp, str):\n",
    "        return datetime.strptime(timestamp, format)\n",
    "    return timestamp\n",
    "\n",
    "#data from https://enigma.co/catalyst/status/\n",
    "prices = pd.read_csv('prices_1T.csv', index_col=0, date_parser = date_parser)"
   ]
  },
  {
   "cell_type": "markdown",
   "metadata": {},
   "source": [
    "# Resampling"
   ]
  },
  {
   "cell_type": "code",
   "execution_count": 2,
   "metadata": {},
   "outputs": [],
   "source": [
    "prices = prices.resample('1H').agg(\n",
    "    {'open': 'first', \n",
    "     'high': 'max', \n",
    "     'low': 'min', \n",
    "     'close': 'last'})"
   ]
  },
  {
   "cell_type": "markdown",
   "metadata": {},
   "source": [
    "# All candle patterns"
   ]
  },
  {
   "cell_type": "code",
   "execution_count": 3,
   "metadata": {},
   "outputs": [
    {
     "data": {
      "application/vnd.jupyter.widget-view+json": {
       "model_id": "c9ffcaa88a264912b3721ae640cde300",
       "version_major": 2,
       "version_minor": 0
      },
      "text/plain": [
       "HBox(children=(IntProgress(value=0, max=61), HTML(value='')))"
      ]
     },
     "metadata": {},
     "output_type": "display_data"
    },
    {
     "name": "stdout",
     "output_type": "stream",
     "text": [
      "\n"
     ]
    }
   ],
   "source": [
    "import talib as ta\n",
    "from tqdm import tqdm_notebook as tqdm\n",
    "\n",
    "CDLs = [name for name in ta.__TA_FUNCTION_NAMES__ if 'CDL' in name]\n",
    "\n",
    "for CDL in tqdm(CDLs):\n",
    "    prices[CDL] = getattr(ta, CDL)(*prices[['open','high','low','close']].values.T)/100"
   ]
  },
  {
   "cell_type": "markdown",
   "metadata": {},
   "source": [
    "### Freq plot"
   ]
  },
  {
   "cell_type": "code",
   "execution_count": 4,
   "metadata": {},
   "outputs": [],
   "source": [
    "CDL_freq = prices[CDLs].apply(pd.value_counts).T/len(prices)\n",
    "CDL_freq.columns = CDL_freq.columns.astype(int)\n",
    "CDL_freq['freq'] = 1-CDL_freq[0]\n",
    "CDL_freq = CDL_freq['freq']\n",
    "CDL_freq.index = CDL_freq.index.map(lambda x: x[3:])\n",
    "CDL_freq = CDL_freq.sort_values(ascending = True)"
   ]
  },
  {
   "cell_type": "code",
   "execution_count": 5,
   "metadata": {},
   "outputs": [
    {
     "data": {
      "text/html": [
       "<script type=\"text/javascript\">window.PlotlyConfig = {MathJaxConfig: 'local'};</script><script type=\"text/javascript\">if (window.MathJax) {MathJax.Hub.Config({SVG: {font: \"STIX-Web\"}});}</script><script>requirejs.config({paths: { 'plotly': ['https://cdn.plot.ly/plotly-latest.min']},});if(!window._Plotly) {require(['plotly'],function(plotly) {window._Plotly=plotly;});}</script>"
      ],
      "text/vnd.plotly.v1+html": [
       "<script type=\"text/javascript\">window.PlotlyConfig = {MathJaxConfig: 'local'};</script><script type=\"text/javascript\">if (window.MathJax) {MathJax.Hub.Config({SVG: {font: \"STIX-Web\"}});}</script><script>requirejs.config({paths: { 'plotly': ['https://cdn.plot.ly/plotly-latest.min']},});if(!window._Plotly) {require(['plotly'],function(plotly) {window._Plotly=plotly;});}</script>"
      ]
     },
     "metadata": {},
     "output_type": "display_data"
    }
   ],
   "source": [
    "from plotly.offline import init_notebook_mode, iplot\n",
    "init_notebook_mode(connected=True)\n",
    "\n",
    "def get_colors(ixs, green, red, neutral):\n",
    "    colors = []\n",
    "    for ix in ixs:\n",
    "        if 'BULL' in ix:\n",
    "            colors.append(green)\n",
    "        elif 'BEAR' in ix:\n",
    "            colors.append(red)\n",
    "        else:\n",
    "            colors.append(neutral)\n",
    "    return colors\n",
    "\n",
    "def freq_plot(df, N):\n",
    "    data = []\n",
    "    layout = dict()\n",
    "    fig = dict(data=data, layout=layout)\n",
    "\n",
    "    df = df[-N:]\n",
    "\n",
    "    fig['layout'] = dict(\n",
    "        autosize=True,\n",
    "        width=1000,\n",
    "        height=800,\n",
    "        title = 'Top {} frequent candle patterns'.format(N),\n",
    "        titlefont = dict(\n",
    "            family='Futura',\n",
    "            size=20,\n",
    "            color='#7f7f7f'),\n",
    "        showlegend=False,\n",
    "        margin=dict(l=10, pad=5),\n",
    "        font=dict(family='Futura', size=12, color='#7f7f7f')\n",
    "    )\n",
    "\n",
    "    fig['layout']['xaxis'] = dict(\n",
    "        showgrid=False,\n",
    "        showline=False,\n",
    "        showticklabels=False,\n",
    "        zeroline=False,\n",
    "        automargin=True\n",
    "        ) \n",
    "\n",
    "    fig['layout']['yaxis'] = dict(\n",
    "        showgrid=False,\n",
    "        showline=False,\n",
    "        showticklabels=True,\n",
    "        zeroline=False,\n",
    "        automargin=True,\n",
    "        tickfont=dict(\n",
    "            family=\"Futura\",\n",
    "            size=12,\n",
    "            color='#7f7f7f')\n",
    "        )    \n",
    "\n",
    "\n",
    "    green = 'rgba(50, 171, 96, 0.6)'\n",
    "    red = 'rgba(171, 62, 50, 0.6)'\n",
    "    neutral = 'rgba(127, 127, 127, 0.6)'\n",
    "\n",
    "    green_line = 'rgba(50, 171, 96, 1.0)'\n",
    "    red_line = 'rgba(171, 62, 50, 1.0)'\n",
    "    neutral_line = 'rgba(127, 127, 127, 1.0)'\n",
    "\n",
    "\n",
    "    fig['data'].append(dict(type = 'bar',\n",
    "                            orientation = 'h',\n",
    "                            x = df.values,\n",
    "                            y = df.index,            \n",
    "                            marker=dict(\n",
    "                                color = get_colors(df.index, green, red, green),                                \n",
    "                                line=dict(\n",
    "                                    color = get_colors(df.index, green_line, red_line, green_line),\n",
    "                                    width=2),                        \n",
    "                           ),\n",
    "                           ))\n",
    "\n",
    "    fig['layout']['annotations'] = [\n",
    "            dict(\n",
    "                x=xpos+0.011,\n",
    "                y=ypos,\n",
    "                xref='x',\n",
    "                yref='y',\n",
    "                text=str(round(xpos*100,2))+'%',\n",
    "                showarrow=False,\n",
    "        ) for xpos, ypos in zip(df.values, df.index)\n",
    "        ]\n",
    "\n",
    "    return fig  "
   ]
  },
  {
   "cell_type": "code",
   "execution_count": 6,
   "metadata": {},
   "outputs": [
    {
     "data": {
      "application/vnd.plotly.v1+json": {
       "data": [
        {
         "marker": {
          "color": [
           "rgba(50, 171, 96, 0.6)",
           "rgba(50, 171, 96, 0.6)",
           "rgba(50, 171, 96, 0.6)",
           "rgba(50, 171, 96, 0.6)",
           "rgba(50, 171, 96, 0.6)",
           "rgba(50, 171, 96, 0.6)",
           "rgba(50, 171, 96, 0.6)",
           "rgba(50, 171, 96, 0.6)",
           "rgba(50, 171, 96, 0.6)",
           "rgba(50, 171, 96, 0.6)",
           "rgba(50, 171, 96, 0.6)",
           "rgba(50, 171, 96, 0.6)",
           "rgba(50, 171, 96, 0.6)",
           "rgba(50, 171, 96, 0.6)",
           "rgba(50, 171, 96, 0.6)",
           "rgba(50, 171, 96, 0.6)",
           "rgba(50, 171, 96, 0.6)",
           "rgba(50, 171, 96, 0.6)",
           "rgba(50, 171, 96, 0.6)",
           "rgba(50, 171, 96, 0.6)",
           "rgba(50, 171, 96, 0.6)",
           "rgba(50, 171, 96, 0.6)",
           "rgba(50, 171, 96, 0.6)",
           "rgba(50, 171, 96, 0.6)",
           "rgba(50, 171, 96, 0.6)",
           "rgba(50, 171, 96, 0.6)",
           "rgba(50, 171, 96, 0.6)",
           "rgba(50, 171, 96, 0.6)",
           "rgba(50, 171, 96, 0.6)",
           "rgba(50, 171, 96, 0.6)"
          ],
          "line": {
           "color": [
            "rgba(50, 171, 96, 1.0)",
            "rgba(50, 171, 96, 1.0)",
            "rgba(50, 171, 96, 1.0)",
            "rgba(50, 171, 96, 1.0)",
            "rgba(50, 171, 96, 1.0)",
            "rgba(50, 171, 96, 1.0)",
            "rgba(50, 171, 96, 1.0)",
            "rgba(50, 171, 96, 1.0)",
            "rgba(50, 171, 96, 1.0)",
            "rgba(50, 171, 96, 1.0)",
            "rgba(50, 171, 96, 1.0)",
            "rgba(50, 171, 96, 1.0)",
            "rgba(50, 171, 96, 1.0)",
            "rgba(50, 171, 96, 1.0)",
            "rgba(50, 171, 96, 1.0)",
            "rgba(50, 171, 96, 1.0)",
            "rgba(50, 171, 96, 1.0)",
            "rgba(50, 171, 96, 1.0)",
            "rgba(50, 171, 96, 1.0)",
            "rgba(50, 171, 96, 1.0)",
            "rgba(50, 171, 96, 1.0)",
            "rgba(50, 171, 96, 1.0)",
            "rgba(50, 171, 96, 1.0)",
            "rgba(50, 171, 96, 1.0)",
            "rgba(50, 171, 96, 1.0)",
            "rgba(50, 171, 96, 1.0)",
            "rgba(50, 171, 96, 1.0)",
            "rgba(50, 171, 96, 1.0)",
            "rgba(50, 171, 96, 1.0)",
            "rgba(50, 171, 96, 1.0)"
           ],
           "width": 2
          }
         },
         "orientation": "h",
         "type": "bar",
         "uid": "d865d60d-5bac-43aa-bc69-a4655d1b2d1d",
         "x": [
          0.0032892160701699646,
          0.003994048085206314,
          0.00650011747200252,
          0.006735061477014637,
          0.006891690813689455,
          0.006891690813689455,
          0.008536298848774382,
          0.009789333542172485,
          0.011747200250606937,
          0.012373717597305989,
          0.014018325632390916,
          0.01957866708434486,
          0.02028349909938132,
          0.020753387109405552,
          0.023494400501213875,
          0.02537395254131103,
          0.03524160075182081,
          0.03978385151538888,
          0.04706711567076516,
          0.07659174563395721,
          0.10086929281854495,
          0.1153575064609601,
          0.13626752290704047,
          0.16109327276998986,
          0.16493069151852147,
          0.16704518756363063,
          0.16837653692536614,
          0.17268384368392198,
          0.17440676638734431,
          0.23353434098206594
         ],
         "y": [
          "3LINESTRIKE",
          "HIKKAKEMOD",
          "INVERTEDHAMMER",
          "XSIDEGAP3METHODS",
          "SHOOTINGSTAR",
          "SEPARATINGLINES",
          "3INSIDE",
          "ADVANCEBLOCK",
          "DOJISTAR",
          "HARAMICROSS",
          "HANGINGMAN",
          "MATCHINGLOW",
          "TAKURI",
          "DRAGONFLYDOJI",
          "GRAVESTONEDOJI",
          "HAMMER",
          "3OUTSIDE",
          "MARUBOZU",
          "HARAMI",
          "ENGULFING",
          "CLOSINGMARUBOZU",
          "RICKSHAWMAN",
          "HIGHWAVE",
          "LONGLEGGEDDOJI",
          "DOJI",
          "BELTHOLD",
          "LONGLINE",
          "HIKKAKE",
          "SHORTLINE",
          "SPINNINGTOP"
         ]
        }
       ],
       "layout": {
        "annotations": [
         {
          "showarrow": false,
          "text": "0.33%",
          "x": 0.014289216070169964,
          "xref": "x",
          "y": "3LINESTRIKE",
          "yref": "y"
         },
         {
          "showarrow": false,
          "text": "0.4%",
          "x": 0.014994048085206314,
          "xref": "x",
          "y": "HIKKAKEMOD",
          "yref": "y"
         },
         {
          "showarrow": false,
          "text": "0.65%",
          "x": 0.01750011747200252,
          "xref": "x",
          "y": "INVERTEDHAMMER",
          "yref": "y"
         },
         {
          "showarrow": false,
          "text": "0.67%",
          "x": 0.017735061477014636,
          "xref": "x",
          "y": "XSIDEGAP3METHODS",
          "yref": "y"
         },
         {
          "showarrow": false,
          "text": "0.69%",
          "x": 0.017891690813689454,
          "xref": "x",
          "y": "SHOOTINGSTAR",
          "yref": "y"
         },
         {
          "showarrow": false,
          "text": "0.69%",
          "x": 0.017891690813689454,
          "xref": "x",
          "y": "SEPARATINGLINES",
          "yref": "y"
         },
         {
          "showarrow": false,
          "text": "0.85%",
          "x": 0.01953629884877438,
          "xref": "x",
          "y": "3INSIDE",
          "yref": "y"
         },
         {
          "showarrow": false,
          "text": "0.98%",
          "x": 0.020789333542172484,
          "xref": "x",
          "y": "ADVANCEBLOCK",
          "yref": "y"
         },
         {
          "showarrow": false,
          "text": "1.17%",
          "x": 0.022747200250606937,
          "xref": "x",
          "y": "DOJISTAR",
          "yref": "y"
         },
         {
          "showarrow": false,
          "text": "1.24%",
          "x": 0.023373717597305988,
          "xref": "x",
          "y": "HARAMICROSS",
          "yref": "y"
         },
         {
          "showarrow": false,
          "text": "1.4%",
          "x": 0.025018325632390915,
          "xref": "x",
          "y": "HANGINGMAN",
          "yref": "y"
         },
         {
          "showarrow": false,
          "text": "1.96%",
          "x": 0.030578667084344858,
          "xref": "x",
          "y": "MATCHINGLOW",
          "yref": "y"
         },
         {
          "showarrow": false,
          "text": "2.03%",
          "x": 0.031283499099381315,
          "xref": "x",
          "y": "TAKURI",
          "yref": "y"
         },
         {
          "showarrow": false,
          "text": "2.08%",
          "x": 0.03175338710940555,
          "xref": "x",
          "y": "DRAGONFLYDOJI",
          "yref": "y"
         },
         {
          "showarrow": false,
          "text": "2.35%",
          "x": 0.03449440050121387,
          "xref": "x",
          "y": "GRAVESTONEDOJI",
          "yref": "y"
         },
         {
          "showarrow": false,
          "text": "2.54%",
          "x": 0.036373952541311025,
          "xref": "x",
          "y": "HAMMER",
          "yref": "y"
         },
         {
          "showarrow": false,
          "text": "3.52%",
          "x": 0.04624160075182081,
          "xref": "x",
          "y": "3OUTSIDE",
          "yref": "y"
         },
         {
          "showarrow": false,
          "text": "3.98%",
          "x": 0.050783851515388875,
          "xref": "x",
          "y": "MARUBOZU",
          "yref": "y"
         },
         {
          "showarrow": false,
          "text": "4.71%",
          "x": 0.058067115670765154,
          "xref": "x",
          "y": "HARAMI",
          "yref": "y"
         },
         {
          "showarrow": false,
          "text": "7.66%",
          "x": 0.0875917456339572,
          "xref": "x",
          "y": "ENGULFING",
          "yref": "y"
         },
         {
          "showarrow": false,
          "text": "10.09%",
          "x": 0.11186929281854495,
          "xref": "x",
          "y": "CLOSINGMARUBOZU",
          "yref": "y"
         },
         {
          "showarrow": false,
          "text": "11.54%",
          "x": 0.1263575064609601,
          "xref": "x",
          "y": "RICKSHAWMAN",
          "yref": "y"
         },
         {
          "showarrow": false,
          "text": "13.63%",
          "x": 0.14726752290704048,
          "xref": "x",
          "y": "HIGHWAVE",
          "yref": "y"
         },
         {
          "showarrow": false,
          "text": "16.11%",
          "x": 0.17209327276998987,
          "xref": "x",
          "y": "LONGLEGGEDDOJI",
          "yref": "y"
         },
         {
          "showarrow": false,
          "text": "16.49%",
          "x": 0.17593069151852148,
          "xref": "x",
          "y": "DOJI",
          "yref": "y"
         },
         {
          "showarrow": false,
          "text": "16.7%",
          "x": 0.17804518756363064,
          "xref": "x",
          "y": "BELTHOLD",
          "yref": "y"
         },
         {
          "showarrow": false,
          "text": "16.84%",
          "x": 0.17937653692536615,
          "xref": "x",
          "y": "LONGLINE",
          "yref": "y"
         },
         {
          "showarrow": false,
          "text": "17.27%",
          "x": 0.183683843683922,
          "xref": "x",
          "y": "HIKKAKE",
          "yref": "y"
         },
         {
          "showarrow": false,
          "text": "17.44%",
          "x": 0.18540676638734432,
          "xref": "x",
          "y": "SHORTLINE",
          "yref": "y"
         },
         {
          "showarrow": false,
          "text": "23.35%",
          "x": 0.24453434098206595,
          "xref": "x",
          "y": "SPINNINGTOP",
          "yref": "y"
         }
        ],
        "autosize": true,
        "font": {
         "color": "#7f7f7f",
         "family": "Futura",
         "size": 12
        },
        "height": 800,
        "margin": {
         "l": 10,
         "pad": 5
        },
        "showlegend": false,
        "title": "Top 30 frequent candle patterns",
        "titlefont": {
         "color": "#7f7f7f",
         "family": "Futura",
         "size": 20
        },
        "width": 1000,
        "xaxis": {
         "automargin": true,
         "showgrid": false,
         "showline": false,
         "showticklabels": false,
         "zeroline": false
        },
        "yaxis": {
         "automargin": true,
         "showgrid": false,
         "showline": false,
         "showticklabels": true,
         "tickfont": {
          "color": "#7f7f7f",
          "family": "Futura",
          "size": 12
         },
         "zeroline": false
        }
       }
      },
      "text/html": [
       "<div id=\"eeaf8fa7-d838-4bd2-a3e9-59e9cb4f7847\" style=\"height: 800px; width: 1000px;\" class=\"plotly-graph-div\"></div><script type=\"text/javascript\">require([\"plotly\"], function(Plotly) { window.PLOTLYENV=window.PLOTLYENV || {};window.PLOTLYENV.BASE_URL=\"https://plot.ly\";Plotly.newPlot(\"eeaf8fa7-d838-4bd2-a3e9-59e9cb4f7847\", [{\"marker\": {\"color\": [\"rgba(50, 171, 96, 0.6)\", \"rgba(50, 171, 96, 0.6)\", \"rgba(50, 171, 96, 0.6)\", \"rgba(50, 171, 96, 0.6)\", \"rgba(50, 171, 96, 0.6)\", \"rgba(50, 171, 96, 0.6)\", \"rgba(50, 171, 96, 0.6)\", \"rgba(50, 171, 96, 0.6)\", \"rgba(50, 171, 96, 0.6)\", \"rgba(50, 171, 96, 0.6)\", \"rgba(50, 171, 96, 0.6)\", \"rgba(50, 171, 96, 0.6)\", \"rgba(50, 171, 96, 0.6)\", \"rgba(50, 171, 96, 0.6)\", \"rgba(50, 171, 96, 0.6)\", \"rgba(50, 171, 96, 0.6)\", \"rgba(50, 171, 96, 0.6)\", \"rgba(50, 171, 96, 0.6)\", \"rgba(50, 171, 96, 0.6)\", \"rgba(50, 171, 96, 0.6)\", \"rgba(50, 171, 96, 0.6)\", \"rgba(50, 171, 96, 0.6)\", \"rgba(50, 171, 96, 0.6)\", \"rgba(50, 171, 96, 0.6)\", \"rgba(50, 171, 96, 0.6)\", \"rgba(50, 171, 96, 0.6)\", \"rgba(50, 171, 96, 0.6)\", \"rgba(50, 171, 96, 0.6)\", \"rgba(50, 171, 96, 0.6)\", \"rgba(50, 171, 96, 0.6)\"], \"line\": {\"color\": [\"rgba(50, 171, 96, 1.0)\", \"rgba(50, 171, 96, 1.0)\", \"rgba(50, 171, 96, 1.0)\", \"rgba(50, 171, 96, 1.0)\", \"rgba(50, 171, 96, 1.0)\", \"rgba(50, 171, 96, 1.0)\", \"rgba(50, 171, 96, 1.0)\", \"rgba(50, 171, 96, 1.0)\", \"rgba(50, 171, 96, 1.0)\", \"rgba(50, 171, 96, 1.0)\", \"rgba(50, 171, 96, 1.0)\", \"rgba(50, 171, 96, 1.0)\", \"rgba(50, 171, 96, 1.0)\", \"rgba(50, 171, 96, 1.0)\", \"rgba(50, 171, 96, 1.0)\", \"rgba(50, 171, 96, 1.0)\", \"rgba(50, 171, 96, 1.0)\", \"rgba(50, 171, 96, 1.0)\", \"rgba(50, 171, 96, 1.0)\", \"rgba(50, 171, 96, 1.0)\", \"rgba(50, 171, 96, 1.0)\", \"rgba(50, 171, 96, 1.0)\", \"rgba(50, 171, 96, 1.0)\", \"rgba(50, 171, 96, 1.0)\", \"rgba(50, 171, 96, 1.0)\", \"rgba(50, 171, 96, 1.0)\", \"rgba(50, 171, 96, 1.0)\", \"rgba(50, 171, 96, 1.0)\", \"rgba(50, 171, 96, 1.0)\", \"rgba(50, 171, 96, 1.0)\"], \"width\": 2}}, \"orientation\": \"h\", \"x\": [0.0032892160701699646, 0.003994048085206314, 0.00650011747200252, 0.006735061477014637, 0.006891690813689455, 0.006891690813689455, 0.008536298848774382, 0.009789333542172485, 0.011747200250606937, 0.012373717597305989, 0.014018325632390916, 0.01957866708434486, 0.02028349909938132, 0.020753387109405552, 0.023494400501213875, 0.02537395254131103, 0.03524160075182081, 0.03978385151538888, 0.04706711567076516, 0.07659174563395721, 0.10086929281854495, 0.1153575064609601, 0.13626752290704047, 0.16109327276998986, 0.16493069151852147, 0.16704518756363063, 0.16837653692536614, 0.17268384368392198, 0.17440676638734431, 0.23353434098206594], \"y\": [\"3LINESTRIKE\", \"HIKKAKEMOD\", \"INVERTEDHAMMER\", \"XSIDEGAP3METHODS\", \"SHOOTINGSTAR\", \"SEPARATINGLINES\", \"3INSIDE\", \"ADVANCEBLOCK\", \"DOJISTAR\", \"HARAMICROSS\", \"HANGINGMAN\", \"MATCHINGLOW\", \"TAKURI\", \"DRAGONFLYDOJI\", \"GRAVESTONEDOJI\", \"HAMMER\", \"3OUTSIDE\", \"MARUBOZU\", \"HARAMI\", \"ENGULFING\", \"CLOSINGMARUBOZU\", \"RICKSHAWMAN\", \"HIGHWAVE\", \"LONGLEGGEDDOJI\", \"DOJI\", \"BELTHOLD\", \"LONGLINE\", \"HIKKAKE\", \"SHORTLINE\", \"SPINNINGTOP\"], \"type\": \"bar\", \"uid\": \"ddc3acbf-4831-40c8-bc2a-b52a351fdd40\"}], {\"annotations\": [{\"showarrow\": false, \"text\": \"0.33%\", \"x\": 0.014289216070169964, \"xref\": \"x\", \"y\": \"3LINESTRIKE\", \"yref\": \"y\"}, {\"showarrow\": false, \"text\": \"0.4%\", \"x\": 0.014994048085206314, \"xref\": \"x\", \"y\": \"HIKKAKEMOD\", \"yref\": \"y\"}, {\"showarrow\": false, \"text\": \"0.65%\", \"x\": 0.01750011747200252, \"xref\": \"x\", \"y\": \"INVERTEDHAMMER\", \"yref\": \"y\"}, {\"showarrow\": false, \"text\": \"0.67%\", \"x\": 0.017735061477014636, \"xref\": \"x\", \"y\": \"XSIDEGAP3METHODS\", \"yref\": \"y\"}, {\"showarrow\": false, \"text\": \"0.69%\", \"x\": 0.017891690813689454, \"xref\": \"x\", \"y\": \"SHOOTINGSTAR\", \"yref\": \"y\"}, {\"showarrow\": false, \"text\": \"0.69%\", \"x\": 0.017891690813689454, \"xref\": \"x\", \"y\": \"SEPARATINGLINES\", \"yref\": \"y\"}, {\"showarrow\": false, \"text\": \"0.85%\", \"x\": 0.01953629884877438, \"xref\": \"x\", \"y\": \"3INSIDE\", \"yref\": \"y\"}, {\"showarrow\": false, \"text\": \"0.98%\", \"x\": 0.020789333542172484, \"xref\": \"x\", \"y\": \"ADVANCEBLOCK\", \"yref\": \"y\"}, {\"showarrow\": false, \"text\": \"1.17%\", \"x\": 0.022747200250606937, \"xref\": \"x\", \"y\": \"DOJISTAR\", \"yref\": \"y\"}, {\"showarrow\": false, \"text\": \"1.24%\", \"x\": 0.023373717597305988, \"xref\": \"x\", \"y\": \"HARAMICROSS\", \"yref\": \"y\"}, {\"showarrow\": false, \"text\": \"1.4%\", \"x\": 0.025018325632390915, \"xref\": \"x\", \"y\": \"HANGINGMAN\", \"yref\": \"y\"}, {\"showarrow\": false, \"text\": \"1.96%\", \"x\": 0.030578667084344858, \"xref\": \"x\", \"y\": \"MATCHINGLOW\", \"yref\": \"y\"}, {\"showarrow\": false, \"text\": \"2.03%\", \"x\": 0.031283499099381315, \"xref\": \"x\", \"y\": \"TAKURI\", \"yref\": \"y\"}, {\"showarrow\": false, \"text\": \"2.08%\", \"x\": 0.03175338710940555, \"xref\": \"x\", \"y\": \"DRAGONFLYDOJI\", \"yref\": \"y\"}, {\"showarrow\": false, \"text\": \"2.35%\", \"x\": 0.03449440050121387, \"xref\": \"x\", \"y\": \"GRAVESTONEDOJI\", \"yref\": \"y\"}, {\"showarrow\": false, \"text\": \"2.54%\", \"x\": 0.036373952541311025, \"xref\": \"x\", \"y\": \"HAMMER\", \"yref\": \"y\"}, {\"showarrow\": false, \"text\": \"3.52%\", \"x\": 0.04624160075182081, \"xref\": \"x\", \"y\": \"3OUTSIDE\", \"yref\": \"y\"}, {\"showarrow\": false, \"text\": \"3.98%\", \"x\": 0.050783851515388875, \"xref\": \"x\", \"y\": \"MARUBOZU\", \"yref\": \"y\"}, {\"showarrow\": false, \"text\": \"4.71%\", \"x\": 0.058067115670765154, \"xref\": \"x\", \"y\": \"HARAMI\", \"yref\": \"y\"}, {\"showarrow\": false, \"text\": \"7.66%\", \"x\": 0.0875917456339572, \"xref\": \"x\", \"y\": \"ENGULFING\", \"yref\": \"y\"}, {\"showarrow\": false, \"text\": \"10.09%\", \"x\": 0.11186929281854495, \"xref\": \"x\", \"y\": \"CLOSINGMARUBOZU\", \"yref\": \"y\"}, {\"showarrow\": false, \"text\": \"11.54%\", \"x\": 0.1263575064609601, \"xref\": \"x\", \"y\": \"RICKSHAWMAN\", \"yref\": \"y\"}, {\"showarrow\": false, \"text\": \"13.63%\", \"x\": 0.14726752290704048, \"xref\": \"x\", \"y\": \"HIGHWAVE\", \"yref\": \"y\"}, {\"showarrow\": false, \"text\": \"16.11%\", \"x\": 0.17209327276998987, \"xref\": \"x\", \"y\": \"LONGLEGGEDDOJI\", \"yref\": \"y\"}, {\"showarrow\": false, \"text\": \"16.49%\", \"x\": 0.17593069151852148, \"xref\": \"x\", \"y\": \"DOJI\", \"yref\": \"y\"}, {\"showarrow\": false, \"text\": \"16.7%\", \"x\": 0.17804518756363064, \"xref\": \"x\", \"y\": \"BELTHOLD\", \"yref\": \"y\"}, {\"showarrow\": false, \"text\": \"16.84%\", \"x\": 0.17937653692536615, \"xref\": \"x\", \"y\": \"LONGLINE\", \"yref\": \"y\"}, {\"showarrow\": false, \"text\": \"17.27%\", \"x\": 0.183683843683922, \"xref\": \"x\", \"y\": \"HIKKAKE\", \"yref\": \"y\"}, {\"showarrow\": false, \"text\": \"17.44%\", \"x\": 0.18540676638734432, \"xref\": \"x\", \"y\": \"SHORTLINE\", \"yref\": \"y\"}, {\"showarrow\": false, \"text\": \"23.35%\", \"x\": 0.24453434098206595, \"xref\": \"x\", \"y\": \"SPINNINGTOP\", \"yref\": \"y\"}], \"autosize\": true, \"font\": {\"color\": \"#7f7f7f\", \"family\": \"Futura\", \"size\": 12}, \"height\": 800, \"margin\": {\"l\": 10, \"pad\": 5}, \"showlegend\": false, \"title\": \"Top 30 frequent candle patterns\", \"titlefont\": {\"color\": \"#7f7f7f\", \"family\": \"Futura\", \"size\": 20}, \"width\": 1000, \"xaxis\": {\"automargin\": true, \"showgrid\": false, \"showline\": false, \"showticklabels\": false, \"zeroline\": false}, \"yaxis\": {\"automargin\": true, \"showgrid\": false, \"showline\": false, \"showticklabels\": true, \"tickfont\": {\"color\": \"#7f7f7f\", \"family\": \"Futura\", \"size\": 12}, \"zeroline\": false}}, {\"showLink\": true, \"linkText\": \"Export to plot.ly\"})});</script>"
      ],
      "text/vnd.plotly.v1+html": [
       "<div id=\"eeaf8fa7-d838-4bd2-a3e9-59e9cb4f7847\" style=\"height: 800px; width: 1000px;\" class=\"plotly-graph-div\"></div><script type=\"text/javascript\">require([\"plotly\"], function(Plotly) { window.PLOTLYENV=window.PLOTLYENV || {};window.PLOTLYENV.BASE_URL=\"https://plot.ly\";Plotly.newPlot(\"eeaf8fa7-d838-4bd2-a3e9-59e9cb4f7847\", [{\"marker\": {\"color\": [\"rgba(50, 171, 96, 0.6)\", \"rgba(50, 171, 96, 0.6)\", \"rgba(50, 171, 96, 0.6)\", \"rgba(50, 171, 96, 0.6)\", \"rgba(50, 171, 96, 0.6)\", \"rgba(50, 171, 96, 0.6)\", \"rgba(50, 171, 96, 0.6)\", \"rgba(50, 171, 96, 0.6)\", \"rgba(50, 171, 96, 0.6)\", \"rgba(50, 171, 96, 0.6)\", \"rgba(50, 171, 96, 0.6)\", \"rgba(50, 171, 96, 0.6)\", \"rgba(50, 171, 96, 0.6)\", \"rgba(50, 171, 96, 0.6)\", \"rgba(50, 171, 96, 0.6)\", \"rgba(50, 171, 96, 0.6)\", \"rgba(50, 171, 96, 0.6)\", \"rgba(50, 171, 96, 0.6)\", \"rgba(50, 171, 96, 0.6)\", \"rgba(50, 171, 96, 0.6)\", \"rgba(50, 171, 96, 0.6)\", \"rgba(50, 171, 96, 0.6)\", \"rgba(50, 171, 96, 0.6)\", \"rgba(50, 171, 96, 0.6)\", \"rgba(50, 171, 96, 0.6)\", \"rgba(50, 171, 96, 0.6)\", \"rgba(50, 171, 96, 0.6)\", \"rgba(50, 171, 96, 0.6)\", \"rgba(50, 171, 96, 0.6)\", \"rgba(50, 171, 96, 0.6)\"], \"line\": {\"color\": [\"rgba(50, 171, 96, 1.0)\", \"rgba(50, 171, 96, 1.0)\", \"rgba(50, 171, 96, 1.0)\", \"rgba(50, 171, 96, 1.0)\", \"rgba(50, 171, 96, 1.0)\", \"rgba(50, 171, 96, 1.0)\", \"rgba(50, 171, 96, 1.0)\", \"rgba(50, 171, 96, 1.0)\", \"rgba(50, 171, 96, 1.0)\", \"rgba(50, 171, 96, 1.0)\", \"rgba(50, 171, 96, 1.0)\", \"rgba(50, 171, 96, 1.0)\", \"rgba(50, 171, 96, 1.0)\", \"rgba(50, 171, 96, 1.0)\", \"rgba(50, 171, 96, 1.0)\", \"rgba(50, 171, 96, 1.0)\", \"rgba(50, 171, 96, 1.0)\", \"rgba(50, 171, 96, 1.0)\", \"rgba(50, 171, 96, 1.0)\", \"rgba(50, 171, 96, 1.0)\", \"rgba(50, 171, 96, 1.0)\", \"rgba(50, 171, 96, 1.0)\", \"rgba(50, 171, 96, 1.0)\", \"rgba(50, 171, 96, 1.0)\", \"rgba(50, 171, 96, 1.0)\", \"rgba(50, 171, 96, 1.0)\", \"rgba(50, 171, 96, 1.0)\", \"rgba(50, 171, 96, 1.0)\", \"rgba(50, 171, 96, 1.0)\", \"rgba(50, 171, 96, 1.0)\"], \"width\": 2}}, \"orientation\": \"h\", \"x\": [0.0032892160701699646, 0.003994048085206314, 0.00650011747200252, 0.006735061477014637, 0.006891690813689455, 0.006891690813689455, 0.008536298848774382, 0.009789333542172485, 0.011747200250606937, 0.012373717597305989, 0.014018325632390916, 0.01957866708434486, 0.02028349909938132, 0.020753387109405552, 0.023494400501213875, 0.02537395254131103, 0.03524160075182081, 0.03978385151538888, 0.04706711567076516, 0.07659174563395721, 0.10086929281854495, 0.1153575064609601, 0.13626752290704047, 0.16109327276998986, 0.16493069151852147, 0.16704518756363063, 0.16837653692536614, 0.17268384368392198, 0.17440676638734431, 0.23353434098206594], \"y\": [\"3LINESTRIKE\", \"HIKKAKEMOD\", \"INVERTEDHAMMER\", \"XSIDEGAP3METHODS\", \"SHOOTINGSTAR\", \"SEPARATINGLINES\", \"3INSIDE\", \"ADVANCEBLOCK\", \"DOJISTAR\", \"HARAMICROSS\", \"HANGINGMAN\", \"MATCHINGLOW\", \"TAKURI\", \"DRAGONFLYDOJI\", \"GRAVESTONEDOJI\", \"HAMMER\", \"3OUTSIDE\", \"MARUBOZU\", \"HARAMI\", \"ENGULFING\", \"CLOSINGMARUBOZU\", \"RICKSHAWMAN\", \"HIGHWAVE\", \"LONGLEGGEDDOJI\", \"DOJI\", \"BELTHOLD\", \"LONGLINE\", \"HIKKAKE\", \"SHORTLINE\", \"SPINNINGTOP\"], \"type\": \"bar\", \"uid\": \"ddc3acbf-4831-40c8-bc2a-b52a351fdd40\"}], {\"annotations\": [{\"showarrow\": false, \"text\": \"0.33%\", \"x\": 0.014289216070169964, \"xref\": \"x\", \"y\": \"3LINESTRIKE\", \"yref\": \"y\"}, {\"showarrow\": false, \"text\": \"0.4%\", \"x\": 0.014994048085206314, \"xref\": \"x\", \"y\": \"HIKKAKEMOD\", \"yref\": \"y\"}, {\"showarrow\": false, \"text\": \"0.65%\", \"x\": 0.01750011747200252, \"xref\": \"x\", \"y\": \"INVERTEDHAMMER\", \"yref\": \"y\"}, {\"showarrow\": false, \"text\": \"0.67%\", \"x\": 0.017735061477014636, \"xref\": \"x\", \"y\": \"XSIDEGAP3METHODS\", \"yref\": \"y\"}, {\"showarrow\": false, \"text\": \"0.69%\", \"x\": 0.017891690813689454, \"xref\": \"x\", \"y\": \"SHOOTINGSTAR\", \"yref\": \"y\"}, {\"showarrow\": false, \"text\": \"0.69%\", \"x\": 0.017891690813689454, \"xref\": \"x\", \"y\": \"SEPARATINGLINES\", \"yref\": \"y\"}, {\"showarrow\": false, \"text\": \"0.85%\", \"x\": 0.01953629884877438, \"xref\": \"x\", \"y\": \"3INSIDE\", \"yref\": \"y\"}, {\"showarrow\": false, \"text\": \"0.98%\", \"x\": 0.020789333542172484, \"xref\": \"x\", \"y\": \"ADVANCEBLOCK\", \"yref\": \"y\"}, {\"showarrow\": false, \"text\": \"1.17%\", \"x\": 0.022747200250606937, \"xref\": \"x\", \"y\": \"DOJISTAR\", \"yref\": \"y\"}, {\"showarrow\": false, \"text\": \"1.24%\", \"x\": 0.023373717597305988, \"xref\": \"x\", \"y\": \"HARAMICROSS\", \"yref\": \"y\"}, {\"showarrow\": false, \"text\": \"1.4%\", \"x\": 0.025018325632390915, \"xref\": \"x\", \"y\": \"HANGINGMAN\", \"yref\": \"y\"}, {\"showarrow\": false, \"text\": \"1.96%\", \"x\": 0.030578667084344858, \"xref\": \"x\", \"y\": \"MATCHINGLOW\", \"yref\": \"y\"}, {\"showarrow\": false, \"text\": \"2.03%\", \"x\": 0.031283499099381315, \"xref\": \"x\", \"y\": \"TAKURI\", \"yref\": \"y\"}, {\"showarrow\": false, \"text\": \"2.08%\", \"x\": 0.03175338710940555, \"xref\": \"x\", \"y\": \"DRAGONFLYDOJI\", \"yref\": \"y\"}, {\"showarrow\": false, \"text\": \"2.35%\", \"x\": 0.03449440050121387, \"xref\": \"x\", \"y\": \"GRAVESTONEDOJI\", \"yref\": \"y\"}, {\"showarrow\": false, \"text\": \"2.54%\", \"x\": 0.036373952541311025, \"xref\": \"x\", \"y\": \"HAMMER\", \"yref\": \"y\"}, {\"showarrow\": false, \"text\": \"3.52%\", \"x\": 0.04624160075182081, \"xref\": \"x\", \"y\": \"3OUTSIDE\", \"yref\": \"y\"}, {\"showarrow\": false, \"text\": \"3.98%\", \"x\": 0.050783851515388875, \"xref\": \"x\", \"y\": \"MARUBOZU\", \"yref\": \"y\"}, {\"showarrow\": false, \"text\": \"4.71%\", \"x\": 0.058067115670765154, \"xref\": \"x\", \"y\": \"HARAMI\", \"yref\": \"y\"}, {\"showarrow\": false, \"text\": \"7.66%\", \"x\": 0.0875917456339572, \"xref\": \"x\", \"y\": \"ENGULFING\", \"yref\": \"y\"}, {\"showarrow\": false, \"text\": \"10.09%\", \"x\": 0.11186929281854495, \"xref\": \"x\", \"y\": \"CLOSINGMARUBOZU\", \"yref\": \"y\"}, {\"showarrow\": false, \"text\": \"11.54%\", \"x\": 0.1263575064609601, \"xref\": \"x\", \"y\": \"RICKSHAWMAN\", \"yref\": \"y\"}, {\"showarrow\": false, \"text\": \"13.63%\", \"x\": 0.14726752290704048, \"xref\": \"x\", \"y\": \"HIGHWAVE\", \"yref\": \"y\"}, {\"showarrow\": false, \"text\": \"16.11%\", \"x\": 0.17209327276998987, \"xref\": \"x\", \"y\": \"LONGLEGGEDDOJI\", \"yref\": \"y\"}, {\"showarrow\": false, \"text\": \"16.49%\", \"x\": 0.17593069151852148, \"xref\": \"x\", \"y\": \"DOJI\", \"yref\": \"y\"}, {\"showarrow\": false, \"text\": \"16.7%\", \"x\": 0.17804518756363064, \"xref\": \"x\", \"y\": \"BELTHOLD\", \"yref\": \"y\"}, {\"showarrow\": false, \"text\": \"16.84%\", \"x\": 0.17937653692536615, \"xref\": \"x\", \"y\": \"LONGLINE\", \"yref\": \"y\"}, {\"showarrow\": false, \"text\": \"17.27%\", \"x\": 0.183683843683922, \"xref\": \"x\", \"y\": \"HIKKAKE\", \"yref\": \"y\"}, {\"showarrow\": false, \"text\": \"17.44%\", \"x\": 0.18540676638734432, \"xref\": \"x\", \"y\": \"SHORTLINE\", \"yref\": \"y\"}, {\"showarrow\": false, \"text\": \"23.35%\", \"x\": 0.24453434098206595, \"xref\": \"x\", \"y\": \"SPINNINGTOP\", \"yref\": \"y\"}], \"autosize\": true, \"font\": {\"color\": \"#7f7f7f\", \"family\": \"Futura\", \"size\": 12}, \"height\": 800, \"margin\": {\"l\": 10, \"pad\": 5}, \"showlegend\": false, \"title\": \"Top 30 frequent candle patterns\", \"titlefont\": {\"color\": \"#7f7f7f\", \"family\": \"Futura\", \"size\": 20}, \"width\": 1000, \"xaxis\": {\"automargin\": true, \"showgrid\": false, \"showline\": false, \"showticklabels\": false, \"zeroline\": false}, \"yaxis\": {\"automargin\": true, \"showgrid\": false, \"showline\": false, \"showticklabels\": true, \"tickfont\": {\"color\": \"#7f7f7f\", \"family\": \"Futura\", \"size\": 12}, \"zeroline\": false}}, {\"showLink\": true, \"linkText\": \"Export to plot.ly\"})});</script>"
      ]
     },
     "metadata": {},
     "output_type": "display_data"
    }
   ],
   "source": [
    "iplot(freq_plot(CDL_freq, 30))"
   ]
  }
 ],
 "metadata": {
  "kernelspec": {
   "display_name": "catalyst",
   "language": "python",
   "name": "catalyst"
  },
  "language_info": {
   "codemirror_mode": {
    "name": "ipython",
    "version": 3
   },
   "file_extension": ".py",
   "mimetype": "text/x-python",
   "name": "python",
   "nbconvert_exporter": "python",
   "pygments_lexer": "ipython3",
   "version": "3.6.3"
  }
 },
 "nbformat": 4,
 "nbformat_minor": 2
}
